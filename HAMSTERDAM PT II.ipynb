{
 "cells": [
  {
   "cell_type": "code",
   "execution_count": 1,
   "metadata": {},
   "outputs": [],
   "source": [
    "from collections import defaultdict\n",
    "from tqdm.notebook import tqdm\n",
    "\n",
    "import matplotlib.pyplot as plt\n",
    "%matplotlib inline\n",
    "\n",
    "import numpy as np\n",
    "import gc"
   ]
  },
  {
   "cell_type": "markdown",
   "metadata": {},
   "source": [
    "# Global Variables"
   ]
  },
  {
   "cell_type": "code",
   "execution_count": 2,
   "metadata": {},
   "outputs": [],
   "source": [
    "timeout = 10 ** 5\n",
    "threshold = 0.001"
   ]
  },
  {
   "cell_type": "markdown",
   "metadata": {},
   "source": [
    "# State Spaces"
   ]
  },
  {
   "cell_type": "code",
   "execution_count": 3,
   "metadata": {},
   "outputs": [],
   "source": [
    "class StateSpace:\n",
    "    def __init__(self, start):\n",
    "        self.start = start\n",
    "        \n",
    "    def actions(self, state):\n",
    "        raise NotImplementedError\n",
    "        \n",
    "    def rewards(self, state, action, next_state, time):\n",
    "        raise NotImplementedError\n",
    "    \n",
    "    def next_state(self, state, action, time):\n",
    "        raise NotImplementedError\n",
    "    \n",
    "    def transition(self, state, action, time):\n",
    "        next_state = self.next_state(state, action, time)\n",
    "        return self.rewards(state, action, next_state, time), next_state"
   ]
  },
  {
   "cell_type": "markdown",
   "metadata": {},
   "source": [
    "## Gridworlds"
   ]
  },
  {
   "cell_type": "code",
   "execution_count": 19,
   "metadata": {},
   "outputs": [],
   "source": [
    "directions = {\n",
    "    \"u\": ( 1, 0),\n",
    "    \"d\": (-1, 0),\n",
    "    \"r\": (0,  1),\n",
    "    \"l\": (0, -1)\n",
    "}\n",
    "\n",
    "class GridWorld(StateSpace):\n",
    "    def __init__(self, start = (0, 0), edges = 25, density = 5):\n",
    "        super().__init__(start)\n",
    "        self.edges = edges\n",
    "        self.density = density\n",
    "        self.validate = self.edges ** 4\n",
    "        \n",
    "    def actions(self, state):\n",
    "        return [ \"u\", \"d\", \"r\", \"l\" ]\n",
    "        \n",
    "    def rewards(self, state, action, next_state, time):\n",
    "        x, y = next_state\n",
    "        return (x + y) / 2 if (x + y) % 10 < self.density else 0\n",
    "    \n",
    "    def next_state(self, state, action, time):\n",
    "        return tuple(map( lambda x, y: (x + y) % self.edges, state, directions[action] ))"
   ]
  },
  {
   "cell_type": "code",
   "execution_count": 20,
   "metadata": {},
   "outputs": [
    {
     "data": {
      "image/png": "[encoded data removed]",
      "text/plain": [
       "<Figure size 432x288 with 1 Axes>"
      ]
     },
     "metadata": {
      "needs_background": "light"
     },
     "output_type": "display_data"
    }
   ],
   "source": [
    "heatmap = [[ (x + y) / 2 if (x + y) % 10 < 5 else 0 for x in range(25) ] for y in range(25) ]\n",
    "\n",
    "plt.imshow( heatmap, cmap = \"hot\" )\n",
    "plt.show()"
   ]
  },
  {
   "cell_type": "code",
   "execution_count": 34,
   "metadata": {},
   "outputs": [],
   "source": [
    "def linear(x, y, time, regime):\n",
    "    return regime, time\n",
    "\n",
    "def independent(x, y, time, regime):\n",
    "    return regime, abs(x - y) * time * 0.00001\n",
    "\n",
    "def n_state(n, M, Q):\n",
    "    def dynamics(x, y, time, regime):\n",
    "        d = np.eye(1, n, regime)\n",
    "        next_state = np.random.choice(n, p = d.dot(M))\n",
    "        return next_state, Q[next_state]\n",
    "    return dynamics\n",
    "\n",
    "class NonStationary(GridWorld):\n",
    "    def __init__(self, start = (0, 0), edges = 25, density = 2, dynamic = linear):\n",
    "        self.regime, self.dynamics = 0, dynamic\n",
    "        super().__init__(start, edges, density)\n",
    "        \n",
    "    def rewards(self, state, action, next_state, time):\n",
    "        self.regime, trend = self.dynamics(* state, time, self.regime)\n",
    "        return super().rewards(state, action, next_state, time) + trend"
   ]
  },
  {
   "cell_type": "code",
   "execution_count": 7,
   "metadata": {},
   "outputs": [
    {
     "data": {
      "image/png": "[encoded data removed]",
      "text/plain": [
       "<Figure size 432x288 with 1 Axes>"
      ]
     },
     "metadata": {
      "needs_background": "light"
     },
     "output_type": "display_data"
    }
   ],
   "source": [
    "heatmap = [[ abs(x - y) for x in range(25) ] for y in range(25) ]\n",
    "\n",
    "plt.imshow( heatmap, cmap = \"hot\" )\n",
    "plt.show()"
   ]
  },
  {
   "cell_type": "markdown",
   "metadata": {},
   "source": [
    "## N-Armed Bandit"
   ]
  },
  {
   "cell_type": "code",
   "execution_count": 8,
   "metadata": {},
   "outputs": [],
   "source": [
    "class BanditTask(StateSpace):\n",
    "    def __init__(self, start = 0, correct = 0, n = 2):\n",
    "        super().__init__(start)\n",
    "        \n",
    "        self.correct = 0\n",
    "        self.switch  = np.random.randint(7, 24)\n",
    "        self.N = n\n",
    "        self.validate = (n * 24) ** 2\n",
    "        \n",
    "    def actions(self, state):\n",
    "        return list( range(self.N) )\n",
    "        \n",
    "    def rewards(self, state, action, next_state, time):\n",
    "        return 1 * (action == self.correct)\n",
    "    \n",
    "    def next_state(self, state, action, time):\n",
    "        self.switch = self.switch - 1\n",
    "        if self.switch == 0:\n",
    "            self.correct = np.random.randint( self.N )\n",
    "            self.switch  = np.random.randint(7, 24)\n",
    "        return state"
   ]
  },
  {
   "cell_type": "markdown",
   "metadata": {},
   "source": [
    "# Agents"
   ]
  },
  {
   "cell_type": "code",
   "execution_count": 9,
   "metadata": {},
   "outputs": [],
   "source": [
    "class agent:\n",
    "    def __init__( self, action_selection = None, alpha = 0.1, discount = 0.1, epsilon = 0.5 ):\n",
    "        self.q_vals, self.v_vals = defaultdict(lambda: 0), defaultdict(lambda: 0)\n",
    "        \n",
    "        self.alpha, self.epsilon, self.discount = alpha, epsilon, discount\n",
    "        if action_selection:\n",
    "            self.action_selection = action_selection\n",
    " \n",
    "    def max_action(self, state, time):\n",
    "        return max(self.space.actions(state), key = lambda x: self.q_value(state, x, time))\n",
    "\n",
    "    def action_selection(self, state, time):\n",
    "        return self.max_action(state, time)\n",
    "    \n",
    "    def q_value(self, state, action, time):\n",
    "        return self.q_vals[(state, action)]\n",
    "    \n",
    "    def update(self, state, next_state, action, reward, time):        \n",
    "        max_q_val  = self.q_vals[( next_state, self.max_action(state, time) )]\n",
    "        previous = self.q_vals[(state, action)]\n",
    "        \n",
    "        self.q_vals[(state, action)] = (1 - self.alpha) * previous + self.alpha * (reward + self.discount * (max_q_val))\n",
    "        self.v_vals[state] = self.v_vals[state] + 1\n",
    "        \n",
    "        delta = self.q_vals[(state, action)] - previous\n",
    "        return delta\n",
    "        \n",
    "    def play(self, space):  \n",
    "        time, state = 0, space.start\n",
    "        self.space = space\n",
    "        \n",
    "        TDEs = []\n",
    "        while (self.alpha > 0.01) and (time < timeout):\n",
    "            action = self.action_selection(self, state, time)\n",
    "            reward, next_state = self.space.transition(state, action, time)\n",
    "\n",
    "            delta = self.update(state, next_state, action, reward, time)\n",
    "            TDEs.append( abs(delta) )\n",
    "            \n",
    "            self.alpha = ( self.alpha * 0.999 ) if abs(delta) < threshold else min( self.alpha * 1.001, 1.0 )\n",
    "            state, time = next_state, time + 1\n",
    "            \n",
    "        return self.validate(), time, TDEs\n",
    "    \n",
    "    def validate(self):\n",
    "        average_reward, state = 0, self.space.start\n",
    "        for p in range( self.space.validate ):\n",
    "            reward, state = self.space.transition(state, self.max_action(state, p), p)\n",
    "            average_reward = average_reward + reward \n",
    "        return average_reward / p"
   ]
  },
  {
   "cell_type": "code",
   "execution_count": 10,
   "metadata": {},
   "outputs": [],
   "source": [
    "class linear_agent(agent): \n",
    "    def __init__( self, action_selection = None, alpha = 0.1, discount = 0.1, epsilon = 0.5 ):\n",
    "        super().__init__(action_selection, alpha, discount, epsilon)\n",
    "        self.xis, self.last = defaultdict(lambda: 0), defaultdict(lambda: (0,0))\n",
    "     \n",
    "    def update_xi(self, state, action, reward, time):\n",
    "        previous, timestamp = self.last[(state, action)]\n",
    "        \n",
    "        if self.v_vals[state] > 0:\n",
    "            change = (reward - previous) / (time - timestamp)\n",
    "            self.xis[(state, action)] = (self.alpha * change) + (1 - self.alpha) * self.xis[(state, action)]\n",
    "        \n",
    "        self.last[(state, action)] = (reward, time)\n",
    "        return reward - ( self.xis[(state, action)] * time )\n",
    "    \n",
    "    def q_value(self, state, action, time):\n",
    "        return super().q_value(state, action, time) + self.xis[(state, action)] * time\n",
    "    \n",
    "    def update(self, state, next_state, action, reward, time):\n",
    "        reward = self.update_xi(state, action, reward, time)\n",
    "        return super().update(state, next_state, action, reward, time)"
   ]
  },
  {
   "cell_type": "code",
   "execution_count": 11,
   "metadata": {},
   "outputs": [],
   "source": [
    "def epsilon_greedy(self, state, time, epsilon = None):\n",
    "    max_action = max(self.space.actions(state), key = lambda x: self.q_value(state, x, time))\n",
    "    return max_action if np.random.random() < (epsilon or self.epsilon) else np.random.choice( self.space.actions(state) )\n",
    "\n",
    "def softmax(self, state, time, beta = 1):\n",
    "    q_vals = np.array([ self.q_value(state, a, time) for a in self.space.actions(state) ])\n",
    "    q_vals = q_vals - max(q_vals)\n",
    "    \n",
    "    softmax = np.exp((q_vals * beta)) / ( np.sum(np.exp(q_vals * beta)) )\n",
    "    return np.random.choice( self.space.actions(state), p = softmax )\n",
    "\n",
    "def boltzmann(self, state, time, epsilon = None):\n",
    "    return softmax(self, state, time, (epsilon or self.epsilon))\n",
    "    \n",
    "def mixture(self, state, time, epsilon = None):\n",
    "    return softmax(self, state, time) if np.random.random() < (epsilon or self.epsilon) else np.random.choice( self.space.actions(state) )\n",
    "\n",
    "action_selection_strategies = { \"Epsilon-Greedy\": epsilon_greedy, \"Boltzmann\": boltzmann, \"Mixture Model\": mixture }"
   ]
  },
  {
   "cell_type": "markdown",
   "metadata": {},
   "source": [
    "# Trials"
   ]
  },
  {
   "cell_type": "code",
   "execution_count": 12,
   "metadata": {},
   "outputs": [],
   "source": [
    "def plot_convergence(space, _agent = agent, plot_title = \"\"):\n",
    "    for title, strategy in action_selection_strategies.items():\n",
    "        r, i, t = _agent( strategy ).play( space )\n",
    "        \n",
    "        plt.plot( range(i), t, label = title + \" -- E[R]: \" + str(round(r, 3)) )\n",
    "        plt.legend()\n",
    "        \n",
    "    plt.title( plot_title )\n",
    "    plt.show()"
   ]
  },
  {
   "cell_type": "code",
   "execution_count": 13,
   "metadata": {},
   "outputs": [
    {
     "data": {
      "image/png": "[encoded data removed]",
      "text/plain": [
       "<Figure size 432x288 with 1 Axes>"
      ]
     },
     "metadata": {
      "needs_background": "light"
     },
     "output_type": "display_data"
    },
    {
     "data": {
      "image/png": "[encoded data removed]",
      "text/plain": [
       "<Figure size 432x288 with 1 Axes>"
      ]
     },
     "metadata": {
      "needs_background": "light"
     },
     "output_type": "display_data"
    },
    {
     "data": {
      "image/png": "[encoded data removed]",
      "text/plain": [
       "<Figure size 432x288 with 1 Axes>"
      ]
     },
     "metadata": {
      "needs_background": "light"
     },
     "output_type": "display_data"
    },
    {
     "data": {
      "image/png": "[encoded data removed]",
      "text/plain": [
       "<Figure size 432x288 with 1 Axes>"
      ]
     },
     "metadata": {
      "needs_background": "light"
     },
     "output_type": "display_data"
    }
   ],
   "source": [
    "plot_convergence( GridWorld(), plot_title = \"Existing RL Agents on a Stationary Gridworld\" )\n",
    "plot_convergence( GridWorld(), _agent = linear_agent, plot_title = \"Novel RL Agents on a Stationary Gridworld\" )\n",
    "\n",
    "plot_convergence( NonStationary(), plot_title = \"Existing RL Agents on a Non-Stationary Gridworld\")\n",
    "plot_convergence( NonStationary(), _agent = linear_agent, plot_title = \"Novel RL Agents on a Non-Stationary Gridworld\" )"
   ]
  },
  {
   "cell_type": "markdown",
   "metadata": {},
   "source": [
    "## P-Values of the Novel Agent(s)"
   ]
  },
  {
   "cell_type": "code",
   "execution_count": 29,
   "metadata": {},
   "outputs": [
    {
     "data": {
      "image/png": "[encoded data removed]",
      "text/plain": [
       "<Figure size 432x288 with 1 Axes>"
      ]
     },
     "metadata": {
      "needs_background": "light"
     },
     "output_type": "display_data"
    }
   ],
   "source": [
    "_agent = linear_agent( epsilon_greedy )\n",
    "_agent.play( GridWorld() )\n",
    "\n",
    "\n",
    "q_values = [[ _agent.q_value( (x, y), _agent.max_action((x, y), 0), 0 ) for x in range(25) ] for y in range(25) ]\n",
    "plt.imshow( q_values, cmap = \"hot\")\n",
    "plt.show()"
   ]
  },
  {
   "cell_type": "code",
   "execution_count": 35,
   "metadata": {},
   "outputs": [
    {
     "data": {
      "image/png": "[encoded data removed]",
      "text/plain": [
       "<Figure size 432x288 with 1 Axes>"
      ]
     },
     "metadata": {
      "needs_background": "light"
     },
     "output_type": "display_data"
    },
    {
     "data": {
      "image/png": "[encoded data removed]",
      "text/plain": [
       "<Figure size 432x288 with 1 Axes>"
      ]
     },
     "metadata": {
      "needs_background": "light"
     },
     "output_type": "display_data"
    }
   ],
   "source": [
    "_agent = linear_agent( epsilon_greedy )\n",
    "_agent.play( NonStationary( dynamic = independent ) )\n",
    "\n",
    "q_values = [[ _agent.q_value( (x, y), _agent.max_action((x, y), 0), 0 ) for x in range(25) ] for y in range(25) ]\n",
    "plt.imshow( q_values, cmap = \"hot\")\n",
    "plt.show()\n",
    "\n",
    "q_values = [[ _agent.q_value( (x, y), _agent.max_action((x, y), 100000), 100000 ) for x in range(25) ] for y in range(25) ]\n",
    "plt.imshow( q_values, cmap = \"hot\")\n",
    "plt.show()"
   ]
  },
  {
   "cell_type": "code",
   "execution_count": null,
   "metadata": {},
   "outputs": [],
   "source": [
    "def sigmoid(x, rho = 1):\n",
    "    return (np.exp(rho * x) / (1 + np.exp(rho * x)))\n",
    "\n",
    "plt.plot( range(-11, 11), [ sigmoid(i) for i in range(-11, 11) ] )\n",
    "plt.show()"
   ]
  },
  {
   "cell_type": "code",
   "execution_count": null,
   "metadata": {},
   "outputs": [],
   "source": [
    "class inhomogenous_agent(agent):\n",
    "    def __init__( self, action_selection = None, alpha = 0.1, discount = 0.1, rhos = (1, 1), lags = -1 ):\n",
    "        super().__init__( action_selection, alpha, discount )\n",
    "\n",
    "        self.rho1, self.rho2 = rhos\n",
    "        self.TDES, self.L = [], lags\n",
    "            \n",
    "    def action_selection(self, state, randomness = None):\n",
    "        return super().action_selection(state, self.distribution(state))\n",
    "    \n",
    "    def update(self, state, next_state, action, reward, time):\n",
    "        delta = super().update( state, next_state, action, reward, time )\n",
    "        self.TDES.append(delta)\n",
    "        \n",
    "        if self.L > -1 and len(self.TDES) > self.L:\n",
    "            self.TDES.pop(0)\n",
    "        return delta\n",
    "    \n",
    "    def phi_explore(self, state):\n",
    "        state_len = len(self.q_vals) + 1\n",
    "        state_sum = np.sum([ self.v_vals[i] for i in self.v_vals ]) + 1\n",
    "        return sigmoid((1 / state_len) - ( self.v_vals[state] / state_sum ), self.rho1)\n",
    "    \n",
    "    def phi_exploit(self, state):\n",
    "        relative = self.TDES[-1] / np.sum(self.TDES)\n",
    "        return sigmoid(1 - (relative * len(self.TDES)), self.rho2)\n",
    "\n",
    "    def distribution(self, state):\n",
    "        epsilon = self.phi_exploit(state)\n",
    "        return epsilon / (epsilon + self.phi_explore(state))"
   ]
  },
  {
   "cell_type": "code",
   "execution_count": null,
   "metadata": {
    "scrolled": true
   },
   "outputs": [],
   "source": [
    "_agent = inhomogenous_agent( mixture )\n",
    "r, i, t = _agent.play( space )\n",
    "\n",
    "print(r, i)\n",
    "difference = [ (min(* state) / (max(* state) + 1)) - _agent.xis[(state, action)] for state, action in _agent.xis ]\n",
    "print( np.sqrt( np.mean( np.array(difference) ** 2 ) ) )\n",
    "\n",
    "plt.plot(range(i), t)\n",
    "plt.show()"
   ]
  },
  {
   "cell_type": "code",
   "execution_count": null,
   "metadata": {},
   "outputs": [],
   "source": [
    "difference = [ (1 - _agent.xis[(state, action)]) / ((min(* state) + 1) / (max(* state) + 1)) for state, action in _agent.xis ]\n",
    "np.mean( difference )"
   ]
  },
  {
   "cell_type": "code",
   "execution_count": null,
   "metadata": {},
   "outputs": [],
   "source": [
    "from itertools import product\n",
    "from random import sample\n",
    "\n",
    "alpha = discount = density = np.arange(0.1, 1, 0.1)\n",
    "size, density = np.arange(5, 25, 5), np.arange(0.1, 1, 0.1)\n",
    "\n",
    "parameters = list( product(alpha, discount, size, density) )\n",
    "parameters = sample( parameters, len(parameters) // 10 )"
   ]
  },
  {
   "cell_type": "code",
   "execution_count": null,
   "metadata": {},
   "outputs": [],
   "source": [
    "from tqdm import tqdm\n",
    "import ray\n",
    "\n",
    "@ray.remote\n",
    "def run_scenario(strategy, parameter_set, inhomogenous):\n",
    "    size, density = parameter_set.pop(2), parameter_set.pop(2)\n",
    "    current_grid = Grid(size, reward_func = density_xor(density))\n",
    "    \n",
    "    current_agent = inhomogenous_agent(strategy, *parameter_set) if inhomogenous else agent(strategy, *parameter_set)\n",
    "    rewards, iterations = current_agent.play( current_grid )\n",
    "    return [ rewards, iterations ]\n",
    "    \n",
    "def test_agent(strategy, inhomogenous = False):\n",
    "    agent_parameters = product( np.arange(0, 10, 0.5), np.arange(0, 10, 0.5), range(-1, 10) ) if inhomogenous else product( np.arange(0.1, 1, 0.1) )\n",
    "    total_parameters = [ [*a, *b] for a, b in product( parameters, agent_parameters ) ]\n",
    "    \n",
    "    scenario = lambda x: run_scenario.remote(strategy, x, inhomogenous)\n",
    "    results  = [ scenario(x) for x in tqdm(total_parameters) ]\n",
    "    results  = ray.get( results )\n",
    "    \n",
    "    exogenous  = np.array( total_parameters, dtype = np.float32 )\n",
    "    endogenous = np.array( results, dtype = np.float32 )\n",
    "\n",
    "    endo_filename = descriptor + 'inhomogenous_endo.npy' if inhomogenous else '_endo.npy'\n",
    "    exog_filename = descriptor + 'inhomogenous_exog.npy' if inhomogenous else '_exog.npy'\n",
    "\n",
    "    np.save(endo_filename, endogenous)\n",
    "    np.save(exog_filename, exogenous)\n",
    "    \n",
    "    gc.collect()"
   ]
  },
  {
   "cell_type": "code",
   "execution_count": null,
   "metadata": {},
   "outputs": [],
   "source": [
    "ray.init()\n",
    "\n",
    "for strategy in action_selection_strategies:\n",
    "    test_agent(strategy, pool)\n",
    "    test_agent(strategy, pool, True)"
   ]
  },
  {
   "cell_type": "code",
   "execution_count": null,
   "metadata": {},
   "outputs": [],
   "source": [
    "import numpy\n",
    "B = numpy.arange(0.025, 0.2525, 0.025)\n",
    "[ a for a in B  ]\n",
    "B"
   ]
  },
  {
   "cell_type": "code",
   "execution_count": null,
   "metadata": {},
   "outputs": [],
   "source": [
    "def B(d1, d2):\n",
    "    assert len(d1) == len(d2)\n",
    "    return sum([ np.sqrt(d1[i] * d2[i]) for i in range(len(d1)) ])\n",
    "\n",
    "def KL(d1, d2):\n",
    "    assert len(d1) == len(d2)\n",
    "    return sum([ d1[i] * np.log( d1[i] / d2[i] ) for i in range(len(d1)) ])\n",
    "\n",
    "def normalize(d):\n",
    "    d = d + abs(min(d))\n",
    "    return [ i / sum(d) for i in d ]\n",
    "\n",
    "def RMSE_q_values(agent, state):\n",
    "    q_values = [ agent.q_vals[( state, a)] for a in agent.grid.actions(state) ]\n",
    "    \n",
    "    next_state = [ agent.grid.transition(state, a)[1] for a in agent.grid.actions(state) ]\n",
    "    true_rwrds = [ ((x * y) + (x - 25)) / 25 for x, y in next_state ]\n",
    "    \n",
    "    return np.linalg.norm(np.array(q_values) - np.array(true_rwrds))\n",
    "\n",
    "def RMSE_total(agent):\n",
    "    return np.sqrt(np.mean([ RMSE_q_values(agent, (i, j)) for i in range(agent.grid.edge) for j in range(agent.grid.edge) ]))"
   ]
  },
  {
   "cell_type": "code",
   "execution_count": null,
   "metadata": {
    "scrolled": true
   },
   "outputs": [],
   "source": [
    "X, Y, Z, T = [], [], [], []\n",
    "\n",
    "N = 1000\n",
    "f = B #KL\n",
    "\n",
    "for epsilon in tqdm(range(1, 11)):\n",
    "    beta = epsilon / 10\n",
    "    a, b, c = 0, 0, 0\n",
    "    \n",
    "    for i in range(N):\n",
    "        rand_vec = np.random.random( 25 * 25 )\n",
    "    \n",
    "        boltz = np.exp(rand_vec * beta)/np.sum(np.exp(rand_vec * beta))\n",
    "        mixy  = (1 - beta) *  np.exp(rand_vec)/np.sum(np.exp(rand_vec)) + (beta) * 1 / (rand_vec.shape[0])\n",
    "        greed = (1 - beta) * (rand_vec == max(rand_vec)).astype(\"int\")  + (beta) * 1 / (rand_vec.shape[0])\n",
    "        \n",
    "        a = a + f(boltz, mixy)\n",
    "        b = b + f(boltz, greed)\n",
    "        c = c + f(mixy, greed)\n",
    "\n",
    "    X += [(10 - epsilon) / 10]\n",
    "    Y += [a / N]\n",
    "    Z += [b / N]\n",
    "    T += [c / N]\n",
    "\n",
    "plt.plot(X, Y, \"g\")\n",
    "plt.plot(X, Z, \"r\")\n",
    "plt.plot(X, T, \"b\")\n",
    "plt.show()"
   ]
  },
  {
   "cell_type": "code",
   "execution_count": null,
   "metadata": {},
   "outputs": [],
   "source": [
    "np.random.seed(0)\n",
    "\n",
    "def example_matrix(size):\n",
    "    M = np.random.randint(0, 10, (size, size))\n",
    "    M = M / M.sum(axis = 1)[:, np.newaxis]\n",
    "    return M\n",
    "\n",
    "def random_matrix(size):\n",
    "    M = np.random.normal(size = (size, size))\n",
    "    M = M / np.linalg.norm(M)\n",
    "    return M\n",
    "\n",
    "M = example_matrix(4)\n",
    "M"
   ]
  },
  {
   "cell_type": "code",
   "execution_count": null,
   "metadata": {},
   "outputs": [],
   "source": [
    "TRIALS = 200000\n",
    "\n",
    "data = [ (np.eye(1, 4, np.random.choice(4))[0], np.random.randint(10)) for i in tqdm(range(TRIALS)) ]\n",
    "\n",
    "result = [ d.dot(np.linalg.matrix_power(M, t)) for d, t in data ]\n",
    "result = [ np.eye(1, 4, np.random.choice(4, p = r)) for r in result ]"
   ]
  },
  {
   "cell_type": "code",
   "execution_count": null,
   "metadata": {},
   "outputs": [],
   "source": [
    "def update(M, start, end, turns, alpha):\n",
    "    likelihood = lambda m: end.dot( start.dot( m ** turns ) )\n",
    "    \n",
    "    \n",
    "    return max(matrices, key = likelihood)"
   ]
  },
  {
   "cell_type": "code",
   "execution_count": null,
   "metadata": {},
   "outputs": [],
   "source": [
    "T = np.eye(4)\n",
    "distance = 1.5\n",
    "\n",
    "distances = []\n",
    "for i in tqdm(range(TRIALS)):\n",
    "    T = update(T, data[i][0], result[i], data[i][1], 0.01)\n",
    "    distances.append( np.linalg.norm(T - M) )\n",
    "    \n",
    "plt.plot( range(TRIALS), distances )\n",
    "plt.show()\n",
    "\n",
    "T, M"
   ]
  },
  {
   "cell_type": "code",
   "execution_count": null,
   "metadata": {},
   "outputs": [],
   "source": [
    "a = np.random.normal(size = 10)\n",
    "b = a / np.linalg.norm(a)\n",
    "\n",
    "np.linalg.norm(0.11115 * b)"
   ]
  },
  {
   "cell_type": "code",
   "execution_count": null,
   "metadata": {},
   "outputs": [],
   "source": []
  }
 ],
 "metadata": {
  "kernelspec": {
   "display_name": "Python 3",
   "language": "python",
   "name": "python3"
  },
  "language_info": {
   "codemirror_mode": {
    "name": "ipython",
    "version": 3
   },
   "file_extension": ".py",
   "mimetype": "text/x-python",
   "name": "python",
   "nbconvert_exporter": "python",
   "pygments_lexer": "ipython3",
   "version": "3.6.4"
  }
 },
 "nbformat": 4,
 "nbformat_minor": 2
}
